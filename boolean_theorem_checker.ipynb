{
 "cells": [
  {
   "cell_type": "code",
   "execution_count": 6,
   "metadata": {},
   "outputs": [],
   "source": [
    "from func import *"
   ]
  },
  {
   "cell_type": "code",
   "execution_count": 7,
   "metadata": {},
   "outputs": [
    {
     "ename": "AttributeError",
     "evalue": "'list' object has no attribute 'replace'",
     "output_type": "error",
     "traceback": [
      "\u001b[1;31m---------------------------------------------------------------------------\u001b[0m",
      "\u001b[1;31mAttributeError\u001b[0m                            Traceback (most recent call last)",
      "\u001b[1;32mc:\\Users\\georg\\source\\repos\\NotJunk\\github\\AlgebraicIntroductionToMathematicalLogic\\temp.ipynb Cell 2\u001b[0m in \u001b[0;36m2\n\u001b[0;32m      <a href='vscode-notebook-cell:/c%3A/Users/georg/source/repos/NotJunk/github/AlgebraicIntroductionToMathematicalLogic/temp.ipynb#W1sZmlsZQ%3D%3D?line=0'>1</a>\u001b[0m term \u001b[39m=\u001b[39m [\u001b[39m'\u001b[39m\u001b[39mX0\u001b[39m\u001b[39m'\u001b[39m, \u001b[39m'\u001b[39m\u001b[39mimples\u001b[39m\u001b[39m'\u001b[39m, \u001b[39m'\u001b[39m\u001b[39mX0\u001b[39m\u001b[39m'\u001b[39m]\n\u001b[1;32m----> <a href='vscode-notebook-cell:/c%3A/Users/georg/source/repos/NotJunk/github/AlgebraicIntroductionToMathematicalLogic/temp.ipynb#W1sZmlsZQ%3D%3D?line=1'>2</a>\u001b[0m is_theorem(term, \u001b[39m1\u001b[39;49m)\n",
      "File \u001b[1;32mc:\\Users\\georg\\source\\repos\\NotJunk\\github\\AlgebraicIntroductionToMathematicalLogic\\func.py:15\u001b[0m, in \u001b[0;36mis_theorem\u001b[1;34m(term, set_size)\u001b[0m\n\u001b[0;32m     13\u001b[0m permutations = get_permutations(set_size)\n\u001b[0;32m     14\u001b[0m for permutation in permutations:\n\u001b[1;32m---> 15\u001b[0m     adjusted_term = make_function(term, permutation)\n\u001b[0;32m     16\u001b[0m     if evaluate_funtion(adjusted_term) == 0:\n\u001b[0;32m     17\u001b[0m         return False\n",
      "File \u001b[1;32mc:\\Users\\georg\\source\\repos\\NotJunk\\github\\AlgebraicIntroductionToMathematicalLogic\\func.py:35\u001b[0m, in \u001b[0;36mmake_function\u001b[1;34m(term, permutation)\u001b[0m\n\u001b[0;32m     33\u001b[0m for index, value in enumerate(permutation):\n\u001b[0;32m     34\u001b[0m     symbol_to_swap = 'x'+str(index)\n\u001b[1;32m---> 35\u001b[0m     term.replace(symbol_to_swap, value)\n\u001b[0;32m     36\u001b[0m term.replace('F', 0)\n\u001b[0;32m     37\u001b[0m return term\n",
      "\u001b[1;31mAttributeError\u001b[0m: 'list' object has no attribute 'replace'"
     ]
    }
   ],
   "source": [
    "term = ['X0', 'imples', 'X0']\n",
    "is_theorem(term, 1)"
   ]
  }
 ],
 "metadata": {
  "kernelspec": {
   "display_name": "base",
   "language": "python",
   "name": "python3"
  },
  "language_info": {
   "codemirror_mode": {
    "name": "ipython",
    "version": 3
   },
   "file_extension": ".py",
   "mimetype": "text/x-python",
   "name": "python",
   "nbconvert_exporter": "python",
   "pygments_lexer": "ipython3",
   "version": "3.8.13"
  },
  "orig_nbformat": 4
 },
 "nbformat": 4,
 "nbformat_minor": 2
}
